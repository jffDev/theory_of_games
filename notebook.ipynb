{
  "cells": [
    {
      "cell_type": "markdown",
      "metadata": {
        "id": "BcKC1lQCV7C8"
      },
      "source": [
        "Theory of games"
      ]
    },
    {
      "cell_type": "markdown",
      "metadata": {
        "id": "zY_YBkJgV7C_"
      },
      "source": []
    },
    {
      "cell_type": "markdown",
      "source": [
        "colab"
      ],
      "metadata": {
        "id": "HZBm-7I-V9JD"
      }
    },
    {
      "cell_type": "code",
      "source": [],
      "metadata": {
        "id": "xN1fhki_WTv8"
      },
      "execution_count": null,
      "outputs": []
    }
  ],
  "metadata": {
    "kernelspec": {
      "display_name": "Python 3.8.12 64-bit ('anaconda')",
      "language": "python",
      "name": "python3"
    },
    "language_info": {
      "name": "python",
      "version": "3.8.12"
    },
    "orig_nbformat": 4,
    "vscode": {
      "interpreter": {
        "hash": "7eabdecdb111cc02acc9409c69cd1dc69556db9f5f6910a5d04b203405c41202"
      }
    },
    "colab": {
      "provenance": []
    }
  },
  "nbformat": 4,
  "nbformat_minor": 0
}