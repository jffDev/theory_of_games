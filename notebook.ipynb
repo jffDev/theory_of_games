{
 "cells": [
  {
   "cell_type": "markdown",
   "metadata": {},
   "source": [
    "Theory of games"
   ]
  },
  {
   "cell_type": "markdown",
   "metadata": {},
   "source": []
  }
 ],
 "metadata": {
  "kernelspec": {
   "display_name": "Python 3.8.12 64-bit ('anaconda')",
   "language": "python",
   "name": "python3"
  },
  "language_info": {
   "name": "python",
   "version": "3.8.12"
  },
  "orig_nbformat": 4,
  "vscode": {
   "interpreter": {
    "hash": "7eabdecdb111cc02acc9409c69cd1dc69556db9f5f6910a5d04b203405c41202"
   }
  }
 },
 "nbformat": 4,
 "nbformat_minor": 2
}
